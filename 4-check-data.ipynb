{
 "cells": [
  {
   "cell_type": "markdown",
   "id": "869ec6b6",
   "metadata": {},
   "source": [
    "### Check the results of the gathered data\n",
    "\n",
    "* How many rows were succesfully scraped?\n",
    "* How many were filled?\n",
    "* How many were validated?\n",
    "* How many rows w"
   ]
  }
 ],
 "metadata": {
  "kernelspec": {
   "display_name": "Python 3 (ipykernel)",
   "language": "python",
   "name": "python3"
  },
  "language_info": {
   "codemirror_mode": {
    "name": "ipython",
    "version": 3
   },
   "file_extension": ".py",
   "mimetype": "text/x-python",
   "name": "python",
   "nbconvert_exporter": "python",
   "pygments_lexer": "ipython3",
   "version": "3.10.9"
  }
 },
 "nbformat": 4,
 "nbformat_minor": 5
}
