{
 "cells": [
  {
   "cell_type": "markdown",
   "id": "093523b3",
   "metadata": {},
   "source": [
    "### 2. Clean data\n",
    "\n",
    "Load and clean the .csv file using pandas. First, create a DataFrame `df` and check the number of rows. Then, remove duplicates by creating a new DataFrame `df_unique` and check the number of rows again.\n",
    "\n",
    "In the example below, I use the file `elektriciens-vlaanderen.csv`, check the length of the data (rows) and apply the following changes.\n",
    "\n",
    "* Remove duplicates\n",
    "* Remove rows where Website is n/a\n",
    "* Format string in the \"Name\" column to title case\n",
    "* format the \"Website\" column: remove protocol (http/https), subdomain(www.) and \"/\" at end of URL, remove rows containing \"facebook\", remove rows containing shortened URL's (bitly)\n",
    "\n",
    "Save df to .csv. I chose to overwrite the original to avoid creating too many files."
   ]
  },
  {
   "cell_type": "code",
   "execution_count": 2,
   "id": "42ce6c2a",
   "metadata": {},
   "outputs": [],
   "source": [
    "import pandas as pd"
   ]
  },
  {
   "cell_type": "code",
   "execution_count": 24,
   "id": "f59c9851",
   "metadata": {},
   "outputs": [
    {
     "data": {
      "text/html": [
       "<div>\n",
       "<style scoped>\n",
       "    .dataframe tbody tr th:only-of-type {\n",
       "        vertical-align: middle;\n",
       "    }\n",
       "\n",
       "    .dataframe tbody tr th {\n",
       "        vertical-align: top;\n",
       "    }\n",
       "\n",
       "    .dataframe thead th {\n",
       "        text-align: right;\n",
       "    }\n",
       "</style>\n",
       "<table border=\"1\" class=\"dataframe\">\n",
       "  <thead>\n",
       "    <tr style=\"text-align: right;\">\n",
       "      <th></th>\n",
       "      <th>Name</th>\n",
       "      <th>Website</th>\n",
       "      <th>Phone Number</th>\n",
       "      <th>City</th>\n",
       "    </tr>\n",
       "  </thead>\n",
       "  <tbody>\n",
       "    <tr>\n",
       "      <th>35</th>\n",
       "      <td>HELEC, HELECTRIEK BV</td>\n",
       "      <td>http://www.helec.be/</td>\n",
       "      <td>0474 71 29 78</td>\n",
       "      <td>Brugge</td>\n",
       "    </tr>\n",
       "    <tr>\n",
       "      <th>36</th>\n",
       "      <td>Ruben Janssens algemene elektriciteit</td>\n",
       "      <td>https://www.rj-elektriciteit.be/</td>\n",
       "      <td>0486 18 98 18</td>\n",
       "      <td>Brugge</td>\n",
       "    </tr>\n",
       "    <tr>\n",
       "      <th>37</th>\n",
       "      <td>Inlight</td>\n",
       "      <td>http://www.inlight-brugge.be/</td>\n",
       "      <td>0498 45 94 10</td>\n",
       "      <td>Brugge</td>\n",
       "    </tr>\n",
       "    <tr>\n",
       "      <th>38</th>\n",
       "      <td>siamand - algemene elektriciteitswerken</td>\n",
       "      <td>https://www.facebook.com/algemeneelektriciteit...</td>\n",
       "      <td>0465 15 67 34</td>\n",
       "      <td>Brugge</td>\n",
       "    </tr>\n",
       "    <tr>\n",
       "      <th>39</th>\n",
       "      <td>Mildan</td>\n",
       "      <td>NaN</td>\n",
       "      <td>0491 73 69 51</td>\n",
       "      <td>Brugge</td>\n",
       "    </tr>\n",
       "  </tbody>\n",
       "</table>\n",
       "</div>"
      ],
      "text/plain": [
       "                                       Name  \\\n",
       "35                     HELEC, HELECTRIEK BV   \n",
       "36    Ruben Janssens algemene elektriciteit   \n",
       "37                                  Inlight   \n",
       "38  siamand - algemene elektriciteitswerken   \n",
       "39                                   Mildan   \n",
       "\n",
       "                                              Website   Phone Number    City  \n",
       "35                               http://www.helec.be/  0474 71 29 78  Brugge  \n",
       "36                   https://www.rj-elektriciteit.be/  0486 18 98 18  Brugge  \n",
       "37                      http://www.inlight-brugge.be/  0498 45 94 10  Brugge  \n",
       "38  https://www.facebook.com/algemeneelektriciteit...  0465 15 67 34  Brugge  \n",
       "39                                                NaN  0491 73 69 51  Brugge  "
      ]
     },
     "execution_count": 24,
     "metadata": {},
     "output_type": "execute_result"
    }
   ],
   "source": [
    "# Load the csv into a Pandas Dataframe\n",
    "df = pd.read_csv(\"1-gathered-data/elektriciens-vlaanderen.csv\", delimiter =\",\")\n",
    "df.tail()"
   ]
  },
  {
   "cell_type": "code",
   "execution_count": 25,
   "id": "ff621833",
   "metadata": {},
   "outputs": [
    {
     "data": {
      "text/plain": [
       "40"
      ]
     },
     "execution_count": 25,
     "metadata": {},
     "output_type": "execute_result"
    }
   ],
   "source": [
    "df.shape[0]"
   ]
  },
  {
   "cell_type": "code",
   "execution_count": 27,
   "id": "532743b6",
   "metadata": {},
   "outputs": [
    {
     "data": {
      "text/plain": [
       "40"
      ]
     },
     "execution_count": 27,
     "metadata": {},
     "output_type": "execute_result"
    }
   ],
   "source": [
    "# Remove duplicates\n",
    "df = df.drop_duplicates(subset=['Name'])\n",
    "df.shape[0]"
   ]
  },
  {
   "cell_type": "code",
   "execution_count": 26,
   "id": "c7c01148",
   "metadata": {},
   "outputs": [
    {
     "data": {
      "text/plain": [
       "Name            0\n",
       "Website         7\n",
       "Phone Number    0\n",
       "City            0\n",
       "dtype: int64"
      ]
     },
     "execution_count": 26,
     "metadata": {},
     "output_type": "execute_result"
    }
   ],
   "source": [
    "df.isna().sum() #Checking how many empty cells are in the df"
   ]
  },
  {
   "cell_type": "code",
   "execution_count": 28,
   "id": "2a13a5ad",
   "metadata": {},
   "outputs": [
    {
     "data": {
      "text/plain": [
       "33"
      ]
     },
     "execution_count": 28,
     "metadata": {},
     "output_type": "execute_result"
    }
   ],
   "source": [
    "# Remove rows not containing a URL, as this is crucial\n",
    "df = df.dropna(subset=[\"Website\"])\n",
    "df.shape[0]"
   ]
  },
  {
   "cell_type": "code",
   "execution_count": 29,
   "id": "3b294afd",
   "metadata": {},
   "outputs": [
    {
     "data": {
      "text/html": [
       "<div>\n",
       "<style scoped>\n",
       "    .dataframe tbody tr th:only-of-type {\n",
       "        vertical-align: middle;\n",
       "    }\n",
       "\n",
       "    .dataframe tbody tr th {\n",
       "        vertical-align: top;\n",
       "    }\n",
       "\n",
       "    .dataframe thead th {\n",
       "        text-align: right;\n",
       "    }\n",
       "</style>\n",
       "<table border=\"1\" class=\"dataframe\">\n",
       "  <thead>\n",
       "    <tr style=\"text-align: right;\">\n",
       "      <th></th>\n",
       "      <th>Name</th>\n",
       "      <th>Website</th>\n",
       "      <th>Phone Number</th>\n",
       "      <th>City</th>\n",
       "    </tr>\n",
       "  </thead>\n",
       "  <tbody>\n",
       "    <tr>\n",
       "      <th>0</th>\n",
       "      <td>Mm Elektro - Multitechnieken</td>\n",
       "      <td>http://www.mmelektro.be/</td>\n",
       "      <td>0486 40 39 08</td>\n",
       "      <td>Kortrijk</td>\n",
       "    </tr>\n",
       "    <tr>\n",
       "      <th>2</th>\n",
       "      <td>Electro Blondeel</td>\n",
       "      <td>http://www.electroblondeel.be/</td>\n",
       "      <td>0475 62 50 23</td>\n",
       "      <td>Kortrijk</td>\n",
       "    </tr>\n",
       "    <tr>\n",
       "      <th>3</th>\n",
       "      <td>Installatietechnieken Laverge</td>\n",
       "      <td>http://www.laverge.be/</td>\n",
       "      <td>0476 30 23 92</td>\n",
       "      <td>Kortrijk</td>\n",
       "    </tr>\n",
       "    <tr>\n",
       "      <th>4</th>\n",
       "      <td>Electro Devosco Bv</td>\n",
       "      <td>http://www.electrodevosco.be/</td>\n",
       "      <td>051 30 47 85</td>\n",
       "      <td>Kortrijk</td>\n",
       "    </tr>\n",
       "    <tr>\n",
       "      <th>6</th>\n",
       "      <td>Elektriciteitswerken Verhelst</td>\n",
       "      <td>http://www.elektriciteitverhelst.be/</td>\n",
       "      <td>0468 48 68 41</td>\n",
       "      <td>Kortrijk</td>\n",
       "    </tr>\n",
       "  </tbody>\n",
       "</table>\n",
       "</div>"
      ],
      "text/plain": [
       "                            Name                               Website  \\\n",
       "0   Mm Elektro - Multitechnieken              http://www.mmelektro.be/   \n",
       "2               Electro Blondeel        http://www.electroblondeel.be/   \n",
       "3  Installatietechnieken Laverge                http://www.laverge.be/   \n",
       "4             Electro Devosco Bv         http://www.electrodevosco.be/   \n",
       "6  Elektriciteitswerken Verhelst  http://www.elektriciteitverhelst.be/   \n",
       "\n",
       "    Phone Number      City  \n",
       "0  0486 40 39 08  Kortrijk  \n",
       "2  0475 62 50 23  Kortrijk  \n",
       "3  0476 30 23 92  Kortrijk  \n",
       "4   051 30 47 85  Kortrijk  \n",
       "6  0468 48 68 41  Kortrijk  "
      ]
     },
     "execution_count": 29,
     "metadata": {},
     "output_type": "execute_result"
    }
   ],
   "source": [
    "# Apply title string to \"Name\" column\n",
    "df[\"Name\"] = df[\"Name\"].str.title()\n",
    "df.head()"
   ]
  },
  {
   "cell_type": "code",
   "execution_count": 32,
   "id": "a4150860",
   "metadata": {},
   "outputs": [
    {
     "data": {
      "text/plain": [
       "31"
      ]
     },
     "execution_count": 32,
     "metadata": {},
     "output_type": "execute_result"
    }
   ],
   "source": [
    "# Remove rows containing \"bit.ly\" or \"facebook\"\n",
    "df = df[~df['Website'].str.contains('facebook|bit.ly')]\n",
    "\n",
    "# Remove protocol (http/https), subdomain (www.) and \"/\" at the end of URL\n",
    "df['Website'] = df['Website'].str.replace(r'^https?://(www\\.)?', '', regex=True).str.rstrip('/')\n",
    "\n",
    "df.shape[0]"
   ]
  },
  {
   "cell_type": "code",
   "execution_count": 34,
   "id": "27842630",
   "metadata": {},
   "outputs": [],
   "source": [
    "df.to_csv(\"1-gathered-data/elektriciens-vlaanderen.csv\", index=None)"
   ]
  },
  {
   "cell_type": "code",
   "execution_count": 54,
   "id": "92f1dbb8",
   "metadata": {},
   "outputs": [
    {
     "data": {
      "text/html": [
       "<div>\n",
       "<style scoped>\n",
       "    .dataframe tbody tr th:only-of-type {\n",
       "        vertical-align: middle;\n",
       "    }\n",
       "\n",
       "    .dataframe tbody tr th {\n",
       "        vertical-align: top;\n",
       "    }\n",
       "\n",
       "    .dataframe thead th {\n",
       "        text-align: right;\n",
       "    }\n",
       "</style>\n",
       "<table border=\"1\" class=\"dataframe\">\n",
       "  <thead>\n",
       "    <tr style=\"text-align: right;\">\n",
       "      <th></th>\n",
       "      <th>Name</th>\n",
       "      <th>Website</th>\n",
       "      <th>Phone Number</th>\n",
       "      <th>City</th>\n",
       "      <th>Email</th>\n",
       "    </tr>\n",
       "  </thead>\n",
       "  <tbody>\n",
       "    <tr>\n",
       "      <th>0</th>\n",
       "      <td>Mm Elektro - Multitechnieken</td>\n",
       "      <td>mmelektro.be</td>\n",
       "      <td>0486 40 39 08</td>\n",
       "      <td>Kortrijk</td>\n",
       "      <td>info@mmelektro.be</td>\n",
       "    </tr>\n",
       "    <tr>\n",
       "      <th>1</th>\n",
       "      <td>Electro Blondeel</td>\n",
       "      <td>electroblondeel.be</td>\n",
       "      <td>0475 62 50 23</td>\n",
       "      <td>Kortrijk</td>\n",
       "      <td>None</td>\n",
       "    </tr>\n",
       "    <tr>\n",
       "      <th>2</th>\n",
       "      <td>Installatietechnieken Laverge</td>\n",
       "      <td>laverge.be</td>\n",
       "      <td>0476 30 23 92</td>\n",
       "      <td>Kortrijk</td>\n",
       "      <td>info@laverge.be</td>\n",
       "    </tr>\n",
       "    <tr>\n",
       "      <th>3</th>\n",
       "      <td>Electro Devosco Bv</td>\n",
       "      <td>electrodevosco.be</td>\n",
       "      <td>051 30 47 85</td>\n",
       "      <td>Kortrijk</td>\n",
       "      <td>None</td>\n",
       "    </tr>\n",
       "    <tr>\n",
       "      <th>4</th>\n",
       "      <td>Elektriciteitswerken Verhelst</td>\n",
       "      <td>elektriciteitverhelst.be</td>\n",
       "      <td>0468 48 68 41</td>\n",
       "      <td>Kortrijk</td>\n",
       "      <td>None</td>\n",
       "    </tr>\n",
       "  </tbody>\n",
       "</table>\n",
       "</div>"
      ],
      "text/plain": [
       "                            Name                   Website   Phone Number  \\\n",
       "0   Mm Elektro - Multitechnieken              mmelektro.be  0486 40 39 08   \n",
       "1               Electro Blondeel        electroblondeel.be  0475 62 50 23   \n",
       "2  Installatietechnieken Laverge                laverge.be  0476 30 23 92   \n",
       "3             Electro Devosco Bv         electrodevosco.be   051 30 47 85   \n",
       "4  Elektriciteitswerken Verhelst  elektriciteitverhelst.be  0468 48 68 41   \n",
       "\n",
       "       City              Email  \n",
       "0  Kortrijk  info@mmelektro.be  \n",
       "1  Kortrijk               None  \n",
       "2  Kortrijk    info@laverge.be  \n",
       "3  Kortrijk               None  \n",
       "4  Kortrijk               None  "
      ]
     },
     "execution_count": 54,
     "metadata": {},
     "output_type": "execute_result"
    }
   ],
   "source": [
    "df.head()"
   ]
  },
  {
   "cell_type": "markdown",
   "id": "958ad3a1",
   "metadata": {},
   "source": [
    "### 3. Search e-mail addresses\n",
    "\n",
    "* Import the cleaned .csv file and scrape email addresses using BeautifulSoup and pandas.\n",
    "*If your dataset is much larger, consider batching the data for more efficient processing.*\n",
    "\n",
    "* Create a new Dataframe, containing the rows where scraping was succesful\n",
    "\n"
   ]
  },
  {
   "cell_type": "code",
   "execution_count": 109,
   "id": "db84a297",
   "metadata": {},
   "outputs": [
    {
     "name": "stdout",
     "output_type": "stream",
     "text": [
      "Requirement already satisfied: requests in c:\\users\\koenvh\\anaconda3\\lib\\site-packages (2.28.1)\n",
      "Requirement already satisfied: beautifulsoup4 in c:\\users\\koenvh\\anaconda3\\lib\\site-packages (4.11.1)\n",
      "Requirement already satisfied: charset-normalizer<3,>=2 in c:\\users\\koenvh\\anaconda3\\lib\\site-packages (from requests) (2.0.4)\n",
      "Requirement already satisfied: urllib3<1.27,>=1.21.1 in c:\\users\\koenvh\\anaconda3\\lib\\site-packages (from requests) (1.26.14)\n",
      "Requirement already satisfied: certifi>=2017.4.17 in c:\\users\\koenvh\\anaconda3\\lib\\site-packages (from requests) (2022.12.7)\n",
      "Requirement already satisfied: idna<4,>=2.5 in c:\\users\\koenvh\\anaconda3\\lib\\site-packages (from requests) (3.4)\n",
      "Requirement already satisfied: soupsieve>1.2 in c:\\users\\koenvh\\anaconda3\\lib\\site-packages (from beautifulsoup4) (2.3.2.post1)\n",
      "Error accessing website https://www.electroblondeel.be: 403 Client Error: Forbidden for url: https://www.electroblondeel.be/\n",
      "Error accessing website https://www.elektriciteitverhelst.be: HTTPSConnectionPool(host='www.elektriciteitverhelst.be', port=443): Max retries exceeded with url: / (Caused by SSLError(SSLCertVerificationError(1, '[SSL: CERTIFICATE_VERIFY_FAILED] certificate verify failed: self signed certificate in certificate chain (_ssl.c:997)')))\n",
      "Error accessing website https://www.adelectrics.be: HTTPSConnectionPool(host='www.adelectrics.be', port=443): Max retries exceeded with url: / (Caused by SSLError(SSLCertVerificationError(1, '[SSL: CERTIFICATE_VERIFY_FAILED] certificate verify failed: self signed certificate (_ssl.c:997)')))\n",
      "Error accessing website https://www.ew-claeys.be: HTTPSConnectionPool(host='www.ew-claeys.be', port=443): Max retries exceeded with url: / (Caused by SSLError(SSLCertVerificationError(1, '[SSL: CERTIFICATE_VERIFY_FAILED] certificate verify failed: self signed certificate in certificate chain (_ssl.c:997)')))\n",
      "Error accessing website https://www.gelek.be: HTTPSConnectionPool(host='www.gelek.be', port=443): Max retries exceeded with url: / (Caused by SSLError(CertificateError(\"hostname 'www.gelek.be' doesn't match either of '*.wordpress.com', 'wordpress.com'\")))\n"
     ]
    }
   ],
   "source": [
    "import requests\n",
    "from bs4 import BeautifulSoup\n",
    "\n",
    "!pip install requests beautifulsoup4\n",
    "\n",
    "\n",
    "def extract_email(website):\n",
    "    # Voeg https://www. toe als de URL geen protocol bevat\n",
    "    if not website.startswith(\"http\"):\n",
    "        website = \"https://www.\" + website\n",
    "    \n",
    "    try:\n",
    "        response = requests.get(website, timeout=5)\n",
    "        response.raise_for_status()  # Raise an exception for bad status codes\n",
    "        soup = BeautifulSoup(response.content, 'html.parser')\n",
    "        email = None\n",
    "        for a in soup.find_all('a', href=True):\n",
    "            if \"mailto:\" in a['href']:\n",
    "                email = a['href'].split(\"mailto:\")[1].split(\"?\")[0]\n",
    "                break  # Stop searching after the first email address\n",
    "        return email\n",
    "    except requests.exceptions.RequestException as e:\n",
    "        print(f\"Error accessing website {website}: {e}\")\n",
    "        return None\n",
    "\n",
    "\n",
    "\n",
    "# Load the CSV file into a pandas DataFrame\n",
    "df = pd.read_csv(\"gathered-data/elektriciens-vlaanderen.csv\") #this is the appended information, all provinces combined (Belgium)\n",
    "\n",
    "# Create a new column to store extracted emails\n",
    "df['Email'] = df['Website'].apply(extract_email)\n",
    "\n",
    "# Save the updated DataFrame to a new CSV file\n",
    "df.to_csv(\"gathered-data/elektriciens-vlaanderen-emails-scraped.csv\", index=False)"
   ]
  },
  {
   "cell_type": "code",
   "execution_count": 110,
   "id": "1dd070c8",
   "metadata": {},
   "outputs": [
    {
     "data": {
      "text/plain": [
       "15"
      ]
     },
     "execution_count": 110,
     "metadata": {},
     "output_type": "execute_result"
    }
   ],
   "source": [
    "#Create a new dataframe, containing the rows with scraped values\n",
    "df_with_emails = df.Email.dropna()\n",
    "# Check how many rows the new df contains\n",
    "df_with_emails.shape[0]"
   ]
  },
  {
   "cell_type": "code",
   "execution_count": 111,
   "id": "44ffe8c4",
   "metadata": {},
   "outputs": [
    {
     "name": "stdout",
     "output_type": "stream",
     "text": [
      "48 % of scraping jobs were succesful.\n"
     ]
    }
   ],
   "source": [
    "Percentage_scrape_succesful = (len(df_with_emails)/len(df)) * 100\n",
    "print(f\"{Percentage_scrape_succesful:.0f} % of scraping jobs were succesful.\")"
   ]
  },
  {
   "cell_type": "markdown",
   "id": "dd9bbc7f",
   "metadata": {},
   "source": [
    "#### *Optional: Fill e-mail addresses\n",
    "\n",
    "A large portion of scraping jobs will not be succesful. In this case we can make an educated guess by filling in the e-mail prefix before the website address.\n",
    "\n",
    "* Use `info@` to ensure you use the general company e-mail.\n",
    "* Avoid filling in `firstname.lastname@` or any variation as it is not allowed to send e-mails to personal mailboxes without consent.\n",
    "\n",
    "*Or: Manually fill in the missing e-mail addresses in Excel by searching the web for best results.*"
   ]
  },
  {
   "cell_type": "code",
   "execution_count": 88,
   "id": "6c347a08",
   "metadata": {},
   "outputs": [
    {
     "data": {
      "text/plain": [
       "16"
      ]
     },
     "execution_count": 88,
     "metadata": {},
     "output_type": "execute_result"
    }
   ],
   "source": [
    "df_without_emails = df[df[\"Email\"].isna()]\n",
    "df_without_emails.shape[0]"
   ]
  },
  {
   "cell_type": "code",
   "execution_count": 96,
   "id": "50376f19",
   "metadata": {},
   "outputs": [],
   "source": [
    "# Function to generate Email addresses, based on URL\n",
    "def generate_email(website):\n",
    "    if pd.isna(website):\n",
    "        return None  # Return None for missing values\n",
    "        \n",
    "    # Add 'info@' \n",
    "    email = 'info@' + website\n",
    "    return email\n",
    "\n",
    "df_with_emails_filled = df_without_emails.copy()\n",
    "\n",
    "df_with_emails_filled[\"Email\"] = df_with_emails_filled[\"Website\"].apply(generate_email)"
   ]
  },
  {
   "cell_type": "code",
   "execution_count": 107,
   "id": "54c178fd",
   "metadata": {},
   "outputs": [
    {
     "data": {
      "text/html": [
       "<div>\n",
       "<style scoped>\n",
       "    .dataframe tbody tr th:only-of-type {\n",
       "        vertical-align: middle;\n",
       "    }\n",
       "\n",
       "    .dataframe tbody tr th {\n",
       "        vertical-align: top;\n",
       "    }\n",
       "\n",
       "    .dataframe thead th {\n",
       "        text-align: right;\n",
       "    }\n",
       "</style>\n",
       "<table border=\"1\" class=\"dataframe\">\n",
       "  <thead>\n",
       "    <tr style=\"text-align: right;\">\n",
       "      <th></th>\n",
       "      <th>Name</th>\n",
       "      <th>Website</th>\n",
       "      <th>Phone Number</th>\n",
       "      <th>City</th>\n",
       "      <th>Email</th>\n",
       "    </tr>\n",
       "  </thead>\n",
       "  <tbody>\n",
       "    <tr>\n",
       "      <th>1</th>\n",
       "      <td>Electro Blondeel</td>\n",
       "      <td>electroblondeel.be</td>\n",
       "      <td>0475 62 50 23</td>\n",
       "      <td>Kortrijk</td>\n",
       "      <td>info@electroblondeel.be</td>\n",
       "    </tr>\n",
       "    <tr>\n",
       "      <th>3</th>\n",
       "      <td>Electro Devosco Bv</td>\n",
       "      <td>electrodevosco.be</td>\n",
       "      <td>051 30 47 85</td>\n",
       "      <td>Kortrijk</td>\n",
       "      <td>info@electrodevosco.be</td>\n",
       "    </tr>\n",
       "    <tr>\n",
       "      <th>4</th>\n",
       "      <td>Elektriciteitswerken Verhelst</td>\n",
       "      <td>elektriciteitverhelst.be</td>\n",
       "      <td>0468 48 68 41</td>\n",
       "      <td>Kortrijk</td>\n",
       "      <td>info@elektriciteitverhelst.be</td>\n",
       "    </tr>\n",
       "    <tr>\n",
       "      <th>6</th>\n",
       "      <td>Elektro Steve-O</td>\n",
       "      <td>steveoelektro.be</td>\n",
       "      <td>0487 73 50 51</td>\n",
       "      <td>Kortrijk</td>\n",
       "      <td>info@steveoelektro.be</td>\n",
       "    </tr>\n",
       "    <tr>\n",
       "      <th>7</th>\n",
       "      <td>Dupont Electro</td>\n",
       "      <td>electrodupont.be</td>\n",
       "      <td>056 50 38 57</td>\n",
       "      <td>Kortrijk</td>\n",
       "      <td>info@electrodupont.be</td>\n",
       "    </tr>\n",
       "    <tr>\n",
       "      <th>9</th>\n",
       "      <td>Vaernewyck Bvba</td>\n",
       "      <td>vaernewyck.be</td>\n",
       "      <td>0480 64 58 10</td>\n",
       "      <td>Kortrijk</td>\n",
       "      <td>info@vaernewyck.be</td>\n",
       "    </tr>\n",
       "    <tr>\n",
       "      <th>10</th>\n",
       "      <td>Ad Electrics</td>\n",
       "      <td>adelectrics.be</td>\n",
       "      <td>0472 48 32 73</td>\n",
       "      <td>Kortrijk</td>\n",
       "      <td>info@adelectrics.be</td>\n",
       "    </tr>\n",
       "    <tr>\n",
       "      <th>11</th>\n",
       "      <td>Debaled Technics</td>\n",
       "      <td>debaled.be</td>\n",
       "      <td>0468 34 49 13</td>\n",
       "      <td>Kortrijk</td>\n",
       "      <td>info@debaled.be</td>\n",
       "    </tr>\n",
       "    <tr>\n",
       "      <th>12</th>\n",
       "      <td>Decroix / Geert Leon</td>\n",
       "      <td>geert-decroix.be</td>\n",
       "      <td>056 77 23 10</td>\n",
       "      <td>Kortrijk</td>\n",
       "      <td>info@geert-decroix.be</td>\n",
       "    </tr>\n",
       "    <tr>\n",
       "      <th>13</th>\n",
       "      <td>Elkin</td>\n",
       "      <td>elkin.be</td>\n",
       "      <td>0496 46 06 47</td>\n",
       "      <td>Kortrijk</td>\n",
       "      <td>info@elkin.be</td>\n",
       "    </tr>\n",
       "    <tr>\n",
       "      <th>14</th>\n",
       "      <td>Sbs Elektro</td>\n",
       "      <td>sbselektro.be</td>\n",
       "      <td>0484 48 58 74</td>\n",
       "      <td>Kortrijk</td>\n",
       "      <td>info@sbselektro.be</td>\n",
       "    </tr>\n",
       "    <tr>\n",
       "      <th>16</th>\n",
       "      <td>Elektriciteitswerken Jonas Rammelaere</td>\n",
       "      <td>elektriciteitswerkenrammelaere.com</td>\n",
       "      <td>0488 15 22 61</td>\n",
       "      <td>Brugge</td>\n",
       "      <td>info@elektriciteitswerkenrammelaere.com</td>\n",
       "    </tr>\n",
       "    <tr>\n",
       "      <th>20</th>\n",
       "      <td>Electro Valcke</td>\n",
       "      <td>electrovalcke.be</td>\n",
       "      <td>0469 14 09 06</td>\n",
       "      <td>Brugge</td>\n",
       "      <td>info@electrovalcke.be</td>\n",
       "    </tr>\n",
       "    <tr>\n",
       "      <th>21</th>\n",
       "      <td>Elektriciteitswerken Claeys</td>\n",
       "      <td>ew-claeys.be</td>\n",
       "      <td>0471 65 42 89</td>\n",
       "      <td>Brugge</td>\n",
       "      <td>info@ew-claeys.be</td>\n",
       "    </tr>\n",
       "    <tr>\n",
       "      <th>24</th>\n",
       "      <td>Milo Multitechnieken</td>\n",
       "      <td>milomultitechnieken.be</td>\n",
       "      <td>050 66 60 86</td>\n",
       "      <td>Brugge</td>\n",
       "      <td>info@milomultitechnieken.be</td>\n",
       "    </tr>\n",
       "    <tr>\n",
       "      <th>27</th>\n",
       "      <td>Gelek Elektriciteitswerken</td>\n",
       "      <td>gelek.be</td>\n",
       "      <td>0498 42 31 58</td>\n",
       "      <td>Brugge</td>\n",
       "      <td>info@gelek.be</td>\n",
       "    </tr>\n",
       "  </tbody>\n",
       "</table>\n",
       "</div>"
      ],
      "text/plain": [
       "                                     Name                             Website  \\\n",
       "1                        Electro Blondeel                  electroblondeel.be   \n",
       "3                      Electro Devosco Bv                   electrodevosco.be   \n",
       "4           Elektriciteitswerken Verhelst            elektriciteitverhelst.be   \n",
       "6                         Elektro Steve-O                    steveoelektro.be   \n",
       "7                          Dupont Electro                    electrodupont.be   \n",
       "9                         Vaernewyck Bvba                       vaernewyck.be   \n",
       "10                           Ad Electrics                      adelectrics.be   \n",
       "11                       Debaled Technics                          debaled.be   \n",
       "12                   Decroix / Geert Leon                    geert-decroix.be   \n",
       "13                                  Elkin                            elkin.be   \n",
       "14                            Sbs Elektro                       sbselektro.be   \n",
       "16  Elektriciteitswerken Jonas Rammelaere  elektriciteitswerkenrammelaere.com   \n",
       "20                         Electro Valcke                    electrovalcke.be   \n",
       "21            Elektriciteitswerken Claeys                        ew-claeys.be   \n",
       "24                   Milo Multitechnieken              milomultitechnieken.be   \n",
       "27             Gelek Elektriciteitswerken                            gelek.be   \n",
       "\n",
       "     Phone Number      City                                    Email  \n",
       "1   0475 62 50 23  Kortrijk                  info@electroblondeel.be  \n",
       "3    051 30 47 85  Kortrijk                   info@electrodevosco.be  \n",
       "4   0468 48 68 41  Kortrijk            info@elektriciteitverhelst.be  \n",
       "6   0487 73 50 51  Kortrijk                    info@steveoelektro.be  \n",
       "7    056 50 38 57  Kortrijk                    info@electrodupont.be  \n",
       "9   0480 64 58 10  Kortrijk                       info@vaernewyck.be  \n",
       "10  0472 48 32 73  Kortrijk                      info@adelectrics.be  \n",
       "11  0468 34 49 13  Kortrijk                          info@debaled.be  \n",
       "12   056 77 23 10  Kortrijk                    info@geert-decroix.be  \n",
       "13  0496 46 06 47  Kortrijk                            info@elkin.be  \n",
       "14  0484 48 58 74  Kortrijk                       info@sbselektro.be  \n",
       "16  0488 15 22 61    Brugge  info@elektriciteitswerkenrammelaere.com  \n",
       "20  0469 14 09 06    Brugge                    info@electrovalcke.be  \n",
       "21  0471 65 42 89    Brugge                        info@ew-claeys.be  \n",
       "24   050 66 60 86    Brugge              info@milomultitechnieken.be  \n",
       "27  0498 42 31 58    Brugge                            info@gelek.be  "
      ]
     },
     "execution_count": 107,
     "metadata": {},
     "output_type": "execute_result"
    }
   ],
   "source": [
    "df_with_emails_filled"
   ]
  },
  {
   "cell_type": "code",
   "execution_count": 108,
   "id": "c6480e97",
   "metadata": {},
   "outputs": [],
   "source": [
    "df_with_emails_filled.to_csv(\"gathered-data/elektriciens-vlaanderen-emails-filled.csv\", index = None)"
   ]
  },
  {
   "cell_type": "code",
   "execution_count": null,
   "id": "dc9b6ed0",
   "metadata": {},
   "outputs": [],
   "source": []
  }
 ],
 "metadata": {
  "kernelspec": {
   "display_name": "Python 3 (ipykernel)",
   "language": "python",
   "name": "python3"
  },
  "language_info": {
   "codemirror_mode": {
    "name": "ipython",
    "version": 3
   },
   "file_extension": ".py",
   "mimetype": "text/x-python",
   "name": "python",
   "nbconvert_exporter": "python",
   "pygments_lexer": "ipython3",
   "version": "3.10.9"
  }
 },
 "nbformat": 4,
 "nbformat_minor": 5
}
