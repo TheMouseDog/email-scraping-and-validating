{
 "cells": [
  {
   "cell_type": "markdown",
   "id": "1a5de654",
   "metadata": {},
   "source": [
    "### 1. Gather Data\n",
    "Leverage the Google Maps Geocoding API to identify target companies and extract essential details. Store the collected information in a .csv file.\n",
    "\n",
    "In this step, I gather data on the companies I'm interested in (in this example: electricians). Since I need information for the entire region of Flanders in Belgium, I based my search on cities, geographically distributed in this region with a search radios set to 10,000m. This way i cover the entire region.\n",
    "\n",
    "The gathered data includes: Name, Website, Phone number and City. It is not possible in this step to scrape e-mail addresses as this is not supported by the Google API. See next steps for adding email addresses."
   ]
  },
  {
   "cell_type": "code",
   "execution_count": 8,
   "id": "1f59c2a5",
   "metadata": {},
   "outputs": [],
   "source": [
    "# Import the necessary libraries\n",
    "import googlemaps\n",
    "import pandas as pd\n",
    "import csv\n",
    "import time\n",
    "import os"
   ]
  },
  {
   "cell_type": "code",
   "execution_count": 9,
   "id": "f9ce6d7b",
   "metadata": {},
   "outputs": [
    {
     "name": "stdout",
     "output_type": "stream",
     "text": [
      "your api key: "
     ]
    }
   ],
   "source": [
    "# Initialize Google Maps API client\n",
    "API_KEY = input(\"your api key: \")\n",
    "gmaps = googlemaps.Client(key=API_KEY)\n",
    "\n",
    "# You will need a Google Cloud account to activate the Geocode API and the Maps Platform API:\n",
    "# Generate your Google maps API Key and fill in where you encounter `API_KEY = your api key`\n",
    "# See https://developers.google.com/maps/documentation/maps-static for more information.*"
   ]
  },
  {
   "cell_type": "markdown",
   "id": "87da39b7",
   "metadata": {},
   "source": [
    "##### I made a list here containing cities and communities in the region of Flanders (Belgium), geographically distributed. The search radius is set to 10,000 meters to cover the entire region.\n",
    "\n",
    "`\"Kortrijk\",\"Ieper\",\"Alveringem\",\"Koksijde\",\"Diksmuide\", \"Poperinge\",\"Roeselare\", \"Torhout\",\"Lichtervelde\", \"Koekelare\", \"Gistel\",\"Middelkerke\",\"Oostende\",\"De Haan\", \"Knokke\", \"Brugge\", \"Oostkamp\",\"Zedelgem\", \"Wingene\", \"Tielt\",\"Meulebeke\",\"Waregem\",\"Deerlijk\",\"Anzegem\", \"Kruisem\",\"aalter\",\"maldegem\",\"eeklo\",\"evergem\",\"gent\",\"de pinte\",\"nazareth\",\"oosterzele\",\"zottegem\",\"oudenaarde\",\"ninove\",\"dendermonde\",\"lokeren\",\"sint-niklaas\",\"stekene\",\"beveren\",\"zele\",\"zelzate\",\"lochristi\",\"geraardsbergen\",\"brakel\",         \"antwerpen\",\"boom\",\"duffel\",\"essen\",\"stabroek\",\"wuustwezel\",\"malle\",\"turnhout\",\"ravels\",\"kasterlee\",\"dessel\",\"geel\",\"herentals\",\"grobbendonk\",\"herselt\",\"heist-op-den-berg\",\"balen\",\n",
    "\"tollembeek\",\"gooik\",\"pepingen\",\"roosdaal\",\"ternat\",\"asse\",\"sint-pieters-leeuw\",\"sint-genesius-rode\",\"halle\",\"hoeilaart\",\"tervuren\",\"zaventem\",\"merchtem\",\"vilvoorde\",\"londerzeel\",\"haacht\",\"leuven\",\"holsbeek\",\"glabbeek\",\"diest\",\"aarschot\",\"sint-truiden\",\"heusden-zolder\",\"lommel\",\"lummen\",\"genk\",\"oudsbergen\",\"bilzen\",\"hasselt\",\"peer\"`"
   ]
  },
  {
   "cell_type": "code",
   "execution_count": 27,
   "id": "8b76cc74",
   "metadata": {},
   "outputs": [
    {
     "name": "stdout",
     "output_type": "stream",
     "text": [
      "Location(s) to search (comma-separated): Kortrijk, Brugge\n"
     ]
    }
   ],
   "source": [
    "# List of cities in the province of West-Flanders, Belgium\n",
    "\n",
    "CITIES = input(\"Location(s) to search (comma-separated): \").split(',')"
   ]
  },
  {
   "cell_type": "code",
   "execution_count": 39,
   "id": "74a16e70",
   "metadata": {},
   "outputs": [
    {
     "name": "stdout",
     "output_type": "stream",
     "text": [
      "Data saved to 1-gathered-data\\elektriciens-vlaanderen.csv\n"
     ]
    }
   ],
   "source": [
    "def search_places(query, location):\n",
    "    places_result = gmaps.places(query=query, location=location, radius=10000, language='nl')\n",
    "    return places_result['results']\n",
    "\n",
    "# Prepare data for CSV output\n",
    "all_data = []\n",
    "\n",
    "for city in CITIES:\n",
    "    city = city.strip()  # Remove any leading/trailing whitespace\n",
    "    # Geocode the city\n",
    "    geocode_result = gmaps.geocode(f\"{city}, Belgium\")\n",
    "    if geocode_result:\n",
    "        location = geocode_result[0]['geometry']['location']\n",
    "    else:\n",
    "        print(f\"Geocoding failed for {city}, Belgium\")\n",
    "        continue  # Skip to the next city if geocoding fails\n",
    "\n",
    "    # Search for \"electrician\" in the city\n",
    "    search_query = \"elektricien\"\n",
    "    places = search_places(search_query, location)\n",
    "\n",
    "    for place in places:\n",
    "        name = place.get('name', 'n/a')\n",
    "        website = 'n/a'\n",
    "        phone_number = 'n/a'\n",
    "\n",
    "        # Extract website and phone number from place details (if available)\n",
    "        try:\n",
    "            place_details = gmaps.place(place_id=place['place_id'], language='nl')\n",
    "            if 'website' in place_details['result']:\n",
    "                website = place_details['result']['website']\n",
    "            if 'formatted_phone_number' in place_details['result']:\n",
    "                phone_number = place_details['result']['formatted_phone_number']\n",
    "        except Exception as e:\n",
    "            print(f\"Error getting place details for {name}: {e}\")\n",
    "\n",
    "        all_data.append([name, website, phone_number, city])  # Add city to data\n",
    "\n",
    "# Write data to CSV file\n",
    "\n",
    "# Specify the directory where you want to save the CSV file\n",
    "directory = \"gathered-data\" #directory path\n",
    "\n",
    "# Ensure the directory exists\n",
    "if not os.path.exists(directory):\n",
    "    os.makedirs(directory)\n",
    "\n",
    "csv_file_path = os.path.join(directory,\"elektriciens-vlaanderen.csv\")\n",
    "if os.path.exists(csv_file_path):\n",
    "    os.remove(csv_file_path)\n",
    "\n",
    "with open(csv_file_path, 'w', newline='', encoding='utf-8') as csvfile:\n",
    "    writer = csv.writer(csvfile)\n",
    "    writer.writerow(['Name', 'Website', 'Phone Number', 'City'])  # Add city header\n",
    "    writer.writerows(all_data)\n",
    "\n",
    "print(f\"Data saved to {csv_file_path}\")\n"
   ]
  },
  {
   "cell_type": "code",
   "execution_count": null,
   "id": "5c27145e",
   "metadata": {},
   "outputs": [],
   "source": []
  }
 ],
 "metadata": {
  "kernelspec": {
   "display_name": "Python 3 (ipykernel)",
   "language": "python",
   "name": "python3"
  },
  "language_info": {
   "codemirror_mode": {
    "name": "ipython",
    "version": 3
   },
   "file_extension": ".py",
   "mimetype": "text/x-python",
   "name": "python",
   "nbconvert_exporter": "python",
   "pygments_lexer": "ipython3",
   "version": "3.10.9"
  }
 },
 "nbformat": 4,
 "nbformat_minor": 5
}
